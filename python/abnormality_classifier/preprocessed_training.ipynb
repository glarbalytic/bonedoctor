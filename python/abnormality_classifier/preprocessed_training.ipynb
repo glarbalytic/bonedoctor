{
  "nbformat": 4,
  "nbformat_minor": 0,
  "metadata": {
    "colab": {
      "name": "preprocessed_training.ipynb",
      "version": "0.3.2",
      "provenance": []
    },
    "kernelspec": {
      "name": "python3",
      "display_name": "Python 3"
    },
    "accelerator": "GPU"
  },
  "cells": [
    {
      "metadata": {
        "id": "Duph_BG_5w35",
        "colab_type": "code",
        "colab": {}
      },
      "cell_type": "code",
      "source": [
        "#make sure GPU available\n",
        "import tensorflow as tf\n",
        "device_name = tf.test.gpu_device_name()\n",
        "if device_name != '/device:GPU:0':\n",
        "  raise SystemError('GPU device not found')\n",
        "print('Found GPU at: {}'.format(device_name))"
      ],
      "execution_count": 0,
      "outputs": []
    },
    {
      "metadata": {
        "id": "O54W0zI652fy",
        "colab_type": "code",
        "colab": {}
      },
      "cell_type": "code",
      "source": [
        "# import modules required\n",
        "from keras.applications.densenet import DenseNet169\n",
        "from keras.layers import Dense, Flatten\n",
        "from keras.models import Sequential\n",
        "from keras.callbacks import ModelCheckpoint\n",
        "import numpy\n",
        "import csv\n",
        "import imageio\n",
        "import numpy as np\n",
        "import cv2\n",
        "import math\n",
        "from keras import backend as K\n",
        "import zipfile\n",
        "from keras.optimizers import Adam"
      ],
      "execution_count": 0,
      "outputs": []
    },
    {
      "metadata": {
        "id": "iIVS6ZW_585Y",
        "colab_type": "code",
        "colab": {}
      },
      "cell_type": "code",
      "source": [
        "# upload preprocessed dataset zipfile\n",
        "from google.colab import files\n",
        "files.upload()"
      ],
      "execution_count": 0,
      "outputs": []
    },
    {
      "metadata": {
        "id": "cfu7fOvd6COm",
        "colab_type": "code",
        "colab": {}
      },
      "cell_type": "code",
      "source": [
        "# extract zip\n",
        "with zipfile.ZipFile(\"MURA-preprocessed.zip\",\"r\") as zip_ref:\n",
        "    zip_ref.extractall(\".\")"
      ],
      "execution_count": 0,
      "outputs": []
    },
    {
      "metadata": {
        "id": "kLQy2b8i6SGF",
        "colab_type": "code",
        "colab": {}
      },
      "cell_type": "code",
      "source": [
        "# removes filename from a path\n",
        "def remove_filename(p):\n",
        "    output = \"\"\n",
        "    file_gone = False\n",
        "    for c in reversed(p):\n",
        "        if file_gone:\n",
        "            output += c\n",
        "        else:\n",
        "            if c == '/':\n",
        "                output += c\n",
        "                file_gone = True\n",
        "    return output[::-1]"
      ],
      "execution_count": 0,
      "outputs": []
    },
    {
      "metadata": {
        "id": "9IY0ob4m6Ysc",
        "colab_type": "code",
        "colab": {}
      },
      "cell_type": "code",
      "source": [
        "# build model and initialise with imagenet pretrained weights\n",
        "densenet = DenseNet169(include_top=False, weights='imagenet', input_tensor=None, input_shape=(320,320,3), pooling=None, classes=False)\n",
        "model = Sequential()\n",
        "model.add(densenet)\n",
        "model.add(Flatten())\n",
        "model.add(Dense(1, activation='sigmoid'))"
      ],
      "execution_count": 0,
      "outputs": []
    },
    {
      "metadata": {
        "id": "a6_ydKEe6aLX",
        "colab_type": "code",
        "colab": {}
      },
      "cell_type": "code",
      "source": [
        "# compile model\n",
        "model.compile(optimizer=Adam(lr=0.0001), loss='binary_crossentropy', metrics=['accuracy'])"
      ],
      "execution_count": 0,
      "outputs": []
    },
    {
      "metadata": {
        "id": "r3azxxVT6rr_",
        "colab_type": "code",
        "colab": {}
      },
      "cell_type": "code",
      "source": [
        "# gets images, labels and number of normal/abnormal images for a bodypart\n",
        "def get_training_data(bodypart):\n",
        "  label_dict = {}\n",
        "  studies = open(\"MURA-v1.1/train_labeled_studies.csv\", newline='')\n",
        "  for study in csv.reader(studies):\n",
        "    label_dict[study[0]] = study[1]\n",
        "  normal = 0\n",
        "  abnormal = 0\n",
        "  paths = open(\"MURA-v1.1/train_image_paths.csv\", newline='')\n",
        "  images = []\n",
        "  labels = []\n",
        "  for path in csv.reader(paths):\n",
        "    if bodypart.upper() in path[0]:\n",
        "      images.append(imageio.imread(path[0]))\n",
        "      label = int(label_dict[remove_filename(path[0])])\n",
        "      labels.append(label)\n",
        "      if label == 1:\n",
        "        abnormal += 1\n",
        "      else:\n",
        "        normal += 1\n",
        "  for i in range(len(images)):\n",
        "    img = images[i]\n",
        "    resized_img = cv2.resize(img, (320, 320))\n",
        "    if len(img.shape) == 2:\n",
        "        resized_img = np.dstack([resized_img, resized_img, resized_img])\n",
        "    images[i] = resized_img\n",
        "  for i in range(len(images)):\n",
        "    img = images[i]\n",
        "    images[i] = img[np.newaxis, ...]\n",
        "  images_tensor = np.concatenate(images, axis=0)\n",
        "  return (images_tensor, labels, normal, abnormal)"
      ],
      "execution_count": 0,
      "outputs": []
    },
    {
      "metadata": {
        "id": "FWRsm3h07K7w",
        "colab_type": "code",
        "colab": {}
      },
      "cell_type": "code",
      "source": [
        "# training function for a particular bodypart\n",
        "def train_bodypart(bodypart):\n",
        "  # get data\n",
        "  training_images, training_labels, normal, abnormal = get_training_data(bodypart)\n",
        "  normal_fraction = normal / (abnormal + normal)\n",
        "  abnormal_fraction = abnormal / (abnormal + normal)\n",
        "  # fit model and evaluate on validation dataset\n",
        "  model.fit(x=training_images, y=training_labels, class_weight={0: abnormal_fraction, 1: normal_fraction}, epochs=3, batch_size=11)"
      ],
      "execution_count": 0,
      "outputs": []
    },
    {
      "metadata": {
        "id": "8H0xtaXs7SFo",
        "colab_type": "code",
        "colab": {}
      },
      "cell_type": "code",
      "source": [
        "from google.colab import files\n",
        "for i in range(3):\n",
        "  for bodypart in ['elbow', 'forearm', 'hand', 'wrist', 'humerus', 'finger', 'shoulder']:\n",
        "    train_bodypart(bodypart)\n",
        "  filename = 'my_model_weights_preprocessed' + str(i) + '.h5'\n",
        "  model.save_weights(filename)\n",
        "  files.download(filename)"
      ],
      "execution_count": 0,
      "outputs": []
    }
  ]
}